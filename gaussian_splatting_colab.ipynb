{
  "cells": [
    {
      "cell_type": "markdown",
      "metadata": {
        "id": "view-in-github",
        "colab_type": "text"
      },
      "source": [
        "<a href=\"https://colab.research.google.com/github/Kakirus/-/blob/main/gaussian_splatting_colab.ipynb\" target=\"_parent\"><img src=\"https://colab.research.google.com/assets/colab-badge.svg\" alt=\"Open In Colab\"/></a>"
      ]
    },
    {
      "cell_type": "code",
      "execution_count": 22,
      "metadata": {
        "id": "VjYy0F2gZIPR",
        "outputId": "83180193-5750-4e31-a7c9-461c74a92ca0",
        "colab": {
          "base_uri": "https://localhost:8080/"
        }
      },
      "outputs": [
        {
          "output_type": "stream",
          "name": "stdout",
          "text": [
            "/content\n",
            "fatal: destination path 'gaussian-splatting' already exists and is not an empty directory.\n",
            "/content/gaussian-splatting\n",
            "  Preparing metadata (setup.py) ... \u001b[?25l\u001b[?25hdone\n",
            "  Building wheel for diff_gaussian_rasterization (setup.py) ... \u001b[?25l\u001b[?25hdone\n",
            "Collecting git+https://github.com/camenduru/simple-knn\n",
            "  Cloning https://github.com/camenduru/simple-knn to /tmp/pip-req-build-omay931p\n",
            "  Running command git clone --filter=blob:none --quiet https://github.com/camenduru/simple-knn /tmp/pip-req-build-omay931p\n",
            "  Resolved https://github.com/camenduru/simple-knn to commit a2a3ef44fa0b9f7b2b5145bd9610029dbec13aa2\n",
            "  Preparing metadata (setup.py) ... \u001b[?25l\u001b[?25hdone\n",
            "--2025-05-08 08:11:39--  https://huggingface.co/camenduru/gaussian-splatting/resolve/main/tandt_db.zip\n",
            "Resolving huggingface.co (huggingface.co)... 13.35.202.121, 13.35.202.40, 13.35.202.34, ...\n",
            "Connecting to huggingface.co (huggingface.co)|13.35.202.121|:443... connected.\n",
            "HTTP request sent, awaiting response... 302 Found\n",
            "Location: https://cdn-lfs.hf.co/repos/69/11/6911555bcb5edae447d514169831329398b45a3ed9ae3b00817878bc501559a1/816e62f22a161abbfe841d2a6b10cdf036e297c9fa289b3bfeee9c6ec526d7e1?response-content-disposition=inline%3B+filename*%3DUTF-8%27%27tandt_db.zip%3B+filename%3D%22tandt_db.zip%22%3B&response-content-type=application%2Fzip&Expires=1746695500&Policy=eyJTdGF0ZW1lbnQiOlt7IkNvbmRpdGlvbiI6eyJEYXRlTGVzc1RoYW4iOnsiQVdTOkVwb2NoVGltZSI6MTc0NjY5NTUwMH19LCJSZXNvdXJjZSI6Imh0dHBzOi8vY2RuLWxmcy5oZi5jby9yZXBvcy82OS8xMS82OTExNTU1YmNiNWVkYWU0NDdkNTE0MTY5ODMxMzI5Mzk4YjQ1YTNlZDlhZTNiMDA4MTc4NzhiYzUwMTU1OWExLzgxNmU2MmYyMmExNjFhYmJmZTg0MWQyYTZiMTBjZGYwMzZlMjk3YzlmYTI4OWIzYmZlZWU5YzZlYzUyNmQ3ZTE%7EcmVzcG9uc2UtY29udGVudC1kaXNwb3NpdGlvbj0qJnJlc3BvbnNlLWNvbnRlbnQtdHlwZT0qIn1dfQ__&Signature=B%7EZvjN4V%7EPCjV68mKqWRZr3eia5TRdnFo6GiPf9klM1ojL3VcoNdYZVIeIha89wboddzY9aAOqWgjNoaJ1wB4bpogDNmlS0HtPIocNhWcIfR%7E1IqPWxwKt2rSmFF5i7ysbHIvhsSfqzYLB8LYoA3mEVj0oLXfUso8o4vmRp1x5I%7ErNCL4w-dLw21DqEH4TNBn14FmUy5jdZNfEmN5wZUpA2a8PloLauzcVeDmqOyxpxmMCX0Z1O9DmkiNeeQInC%7EB7MkYUq%7EOzOK4U9rvQetnWHYSKxyD0HDDBgomBiiNcusOAnm0PceApCno3O5EKgeN7rJNd6oIc4DfcAVGDbn2A__&Key-Pair-Id=K3RPWS32NSSJCE [following]\n",
            "--2025-05-08 08:11:40--  https://cdn-lfs.hf.co/repos/69/11/6911555bcb5edae447d514169831329398b45a3ed9ae3b00817878bc501559a1/816e62f22a161abbfe841d2a6b10cdf036e297c9fa289b3bfeee9c6ec526d7e1?response-content-disposition=inline%3B+filename*%3DUTF-8%27%27tandt_db.zip%3B+filename%3D%22tandt_db.zip%22%3B&response-content-type=application%2Fzip&Expires=1746695500&Policy=eyJTdGF0ZW1lbnQiOlt7IkNvbmRpdGlvbiI6eyJEYXRlTGVzc1RoYW4iOnsiQVdTOkVwb2NoVGltZSI6MTc0NjY5NTUwMH19LCJSZXNvdXJjZSI6Imh0dHBzOi8vY2RuLWxmcy5oZi5jby9yZXBvcy82OS8xMS82OTExNTU1YmNiNWVkYWU0NDdkNTE0MTY5ODMxMzI5Mzk4YjQ1YTNlZDlhZTNiMDA4MTc4NzhiYzUwMTU1OWExLzgxNmU2MmYyMmExNjFhYmJmZTg0MWQyYTZiMTBjZGYwMzZlMjk3YzlmYTI4OWIzYmZlZWU5YzZlYzUyNmQ3ZTE%7EcmVzcG9uc2UtY29udGVudC1kaXNwb3NpdGlvbj0qJnJlc3BvbnNlLWNvbnRlbnQtdHlwZT0qIn1dfQ__&Signature=B%7EZvjN4V%7EPCjV68mKqWRZr3eia5TRdnFo6GiPf9klM1ojL3VcoNdYZVIeIha89wboddzY9aAOqWgjNoaJ1wB4bpogDNmlS0HtPIocNhWcIfR%7E1IqPWxwKt2rSmFF5i7ysbHIvhsSfqzYLB8LYoA3mEVj0oLXfUso8o4vmRp1x5I%7ErNCL4w-dLw21DqEH4TNBn14FmUy5jdZNfEmN5wZUpA2a8PloLauzcVeDmqOyxpxmMCX0Z1O9DmkiNeeQInC%7EB7MkYUq%7EOzOK4U9rvQetnWHYSKxyD0HDDBgomBiiNcusOAnm0PceApCno3O5EKgeN7rJNd6oIc4DfcAVGDbn2A__&Key-Pair-Id=K3RPWS32NSSJCE\n",
            "Resolving cdn-lfs.hf.co (cdn-lfs.hf.co)... 3.170.229.19, 3.170.229.105, 3.170.229.125, ...\n",
            "Connecting to cdn-lfs.hf.co (cdn-lfs.hf.co)|3.170.229.19|:443... connected.\n",
            "HTTP request sent, awaiting response... 200 OK\n",
            "Length: 682628995 (651M) [application/zip]\n",
            "Saving to: ‘tandt_db.zip.3’\n",
            "\n",
            "tandt_db.zip.3      100%[===================>] 651.00M   248MB/s    in 2.6s    \n",
            "\n",
            "2025-05-08 08:11:42 (248 MB/s) - ‘tandt_db.zip.3’ saved [682628995/682628995]\n",
            "\n",
            "Archive:  tandt_db.zip\n",
            "replace db/drjohnson/images/IMG_6292.jpg? [y]es, [n]o, [A]ll, [N]one, [r]ename: N\n",
            "2025-05-08 08:12:26.098362: E external/local_xla/xla/stream_executor/cuda/cuda_fft.cc:477] Unable to register cuFFT factory: Attempting to register factory for plugin cuFFT when one has already been registered\n",
            "WARNING: All log messages before absl::InitializeLog() is called are written to STDERR\n",
            "E0000 00:00:1746691946.119206   35048 cuda_dnn.cc:8310] Unable to register cuDNN factory: Attempting to register factory for plugin cuDNN when one has already been registered\n",
            "E0000 00:00:1746691946.125472   35048 cuda_blas.cc:1418] Unable to register cuBLAS factory: Attempting to register factory for plugin cuBLAS when one has already been registered\n",
            "2025-05-08 08:12:26.148526: I tensorflow/core/platform/cpu_feature_guard.cc:210] This TensorFlow binary is optimized to use available CPU instructions in performance-critical operations.\n",
            "To enable the following instructions: AVX2 AVX512F FMA, in other operations, rebuild TensorFlow with the appropriate compiler flags.\n",
            "Optimizing \n",
            "Output folder: ./output/daa8e8c5-1 [08/05 08:12:30]\n",
            "Reading camera 301/301 [08/05 08:12:32]\n",
            "Loading Training Cameras [08/05 08:12:32]\n",
            "Loading Test Cameras [08/05 08:12:37]\n",
            "Number of points at initialisation :  182686 [08/05 08:12:37]\n",
            "Training progress:  23% 7000/30000 [06:35<25:46, 14.87it/s, Loss=0.0885893]\n",
            "[ITER 7000] Evaluating train: L1 0.06750828251242638 PSNR 20.152400207519534 [08/05 08:19:18]\n",
            "\n",
            "[ITER 7000] Saving Gaussians [08/05 08:19:18]\n",
            "Training progress:  36% 10690/30000 [11:24<25:47, 12.48it/s, Loss=0.0864833]Traceback (most recent call last):\n",
            "  File \"/content/gaussian-splatting/train.py\", line 216, in <module>\n",
            "    training(lp.extract(args), op.extract(args), pp.extract(args), args.test_iterations, args.save_iterations, args.checkpoint_iterations, args.start_checkpoint, args.debug_from)\n",
            "  File \"/content/gaussian-splatting/train.py\", line 83, in training\n",
            "    render_pkg = render(viewpoint_cam, gaussians, pipe, background)\n",
            "                 ^^^^^^^^^^^^^^^^^^^^^^^^^^^^^^^^^^^^^^^^^^^^^^^^^^\n",
            "  File \"/content/gaussian-splatting/gaussian_renderer/__init__.py\", line 85, in render\n",
            "    rendered_image, radii = rasterizer(\n",
            "                            ^^^^^^^^^^^\n",
            "  File \"/usr/local/lib/python3.11/dist-packages/torch/nn/modules/module.py\", line 1739, in _wrapped_call_impl\n",
            "    return self._call_impl(*args, **kwargs)\n",
            "           ^^^^^^^^^^^^^^^^^^^^^^^^^^^^^^^^\n",
            "  File \"/usr/local/lib/python3.11/dist-packages/torch/nn/modules/module.py\", line 1750, in _call_impl\n",
            "    return forward_call(*args, **kwargs)\n",
            "           ^^^^^^^^^^^^^^^^^^^^^^^^^^^^^\n",
            "  File \"/usr/local/lib/python3.11/dist-packages/diff_gaussian_rasterization/__init__.py\", line 210, in forward\n",
            "    return rasterize_gaussians(\n",
            "           ^^^^^^^^^^^^^^^^^^^^\n",
            "  File \"/usr/local/lib/python3.11/dist-packages/diff_gaussian_rasterization/__init__.py\", line 32, in rasterize_gaussians\n",
            "    return _RasterizeGaussians.apply(\n",
            "           ^^^^^^^^^^^^^^^^^^^^^^^^^^\n",
            "  File \"/usr/local/lib/python3.11/dist-packages/torch/autograd/function.py\", line 575, in apply\n",
            "    return super().apply(*args, **kwargs)  # type: ignore[misc]\n",
            "           ^^^^^^^^^^^^^^^^^^^^^^^^^^^^^^\n",
            "  File \"/usr/local/lib/python3.11/dist-packages/diff_gaussian_rasterization/__init__.py\", line 92, in forward\n",
            "    num_rendered, color, radii, geomBuffer, binningBuffer, imgBuffer = _C.rasterize_gaussians(*args)\n",
            "                                                                       ^^^^^^^^^^^^^^^^^^^^^^^^^^^^^\n",
            "KeyboardInterrupt\n",
            "Training progress:  36% 10690/30000 [11:25<20:37, 15.60it/s, Loss=0.0864833]\n"
          ]
        }
      ],
      "source": [
        "%cd /content\n",
        "!git clone --recursive https://github.com/camenduru/gaussian-splatting\n",
        "!pip install -q plyfile\n",
        "\n",
        "%cd /content/gaussian-splatting\n",
        "!pip install -q /content/gaussian-splatting/submodules/diff-gaussian-rasterization\n",
        "!pip install git+https://github.com/camenduru/simple-knn\n",
        "\n",
        "!wget https://huggingface.co/camenduru/gaussian-splatting/resolve/main/tandt_db.zip\n",
        "!unzip tandt_db.zip\n",
        "\n",
        "!python train.py -s /content/gaussian-splatting/tandt/train\n",
        "\n",
        "# !wget https://huggingface.co/camenduru/gaussian-splatting/resolve/main/GaussianViewTest.zip\n",
        "# !unzip GaussianViewTest.zip\n",
        "# !python render.py -m /content/gaussian-splatting/GaussianViewTest/model\n",
        "# !ffmpeg -framerate 3 -i /content/gaussian-splatting/GaussianViewTest/model/train/ours_30000/renders/%05d.png -vf \"pad=ceil(iw/2)*2:ceil(ih/2)*2\" -c:v libx264 -r 3 -pix_fmt yuv420p /content/renders.mp4\n",
        "# !ffmpeg -framerate 3 -i /content/gaussian-splatting/GaussianViewTest/model/train/ours_30000/gt/%05d.png -vf \"pad=ceil(iw/2)*2:ceil(ih/2)*2\" -c:v libx264 -r 3 -pix_fmt yuv420p /content/gt.mp4 -y"
      ]
    },
    {
      "cell_type": "code",
      "source": [
        "!wget https://huggingface.co/camenduru/gaussian-splatting/resolve/main/GaussianViewTest.zip\n"
      ],
      "metadata": {
        "id": "mrpukS08rrD1",
        "outputId": "bd8ccb39-6907-401d-996c-669159abcee7",
        "colab": {
          "base_uri": "https://localhost:8080/"
        }
      },
      "execution_count": 11,
      "outputs": [
        {
          "output_type": "stream",
          "name": "stdout",
          "text": [
            "--2025-05-08 07:27:14--  https://huggingface.co/camenduru/gaussian-splatting/resolve/main/GaussianViewTest.zip\n",
            "Resolving huggingface.co (huggingface.co)... 13.35.202.121, 13.35.202.40, 13.35.202.34, ...\n",
            "Connecting to huggingface.co (huggingface.co)|13.35.202.121|:443... connected.\n",
            "HTTP request sent, awaiting response... 302 Found\n",
            "Location: https://cdn-lfs.hf.co/repos/69/11/6911555bcb5edae447d514169831329398b45a3ed9ae3b00817878bc501559a1/04543c347c164deaec3f0f4b585a7e9bb15b08a01607fdb4bfda88e8109d9238?response-content-disposition=inline%3B+filename*%3DUTF-8%27%27GaussianViewTest.zip%3B+filename%3D%22GaussianViewTest.zip%22%3B&response-content-type=application%2Fzip&Expires=1746692834&Policy=eyJTdGF0ZW1lbnQiOlt7IkNvbmRpdGlvbiI6eyJEYXRlTGVzc1RoYW4iOnsiQVdTOkVwb2NoVGltZSI6MTc0NjY5MjgzNH19LCJSZXNvdXJjZSI6Imh0dHBzOi8vY2RuLWxmcy5oZi5jby9yZXBvcy82OS8xMS82OTExNTU1YmNiNWVkYWU0NDdkNTE0MTY5ODMxMzI5Mzk4YjQ1YTNlZDlhZTNiMDA4MTc4NzhiYzUwMTU1OWExLzA0NTQzYzM0N2MxNjRkZWFlYzNmMGY0YjU4NWE3ZTliYjE1YjA4YTAxNjA3ZmRiNGJmZGE4OGU4MTA5ZDkyMzg%7EcmVzcG9uc2UtY29udGVudC1kaXNwb3NpdGlvbj0qJnJlc3BvbnNlLWNvbnRlbnQtdHlwZT0qIn1dfQ__&Signature=dYnoZlmTHHuak0nuFSarQe7zIfE5PA4-DAHJ8IQg6eYIpnuPKmHNGqOvuJYrNX2wJ5uk3Q1130-1YfFyEhGOzg4S-pnsM-Z3Eem3GM88l9hyuaQ0ZWvsGHDnK0%7Evf52KDJut9JWxCz2cBC5cfETZUGYGL1h11CeY8NZb1u9kL2iMWVlLFK80hAVTy8BqsPwgKAlE6wOCJ%7Ef6eUfHZtf9pjq1oI9AfKXRfIJEcfXzVwPVa8zraMIxQI%7EkPv2UuTossAXd7eqpEI-XytGh88F5uE-6jsiJLDKiI7QiQE-AUgvg09K-kCVeqTrjDU5AwXVeguVrgQ7hew--BIfFl9C6tw__&Key-Pair-Id=K3RPWS32NSSJCE [following]\n",
            "--2025-05-08 07:27:14--  https://cdn-lfs.hf.co/repos/69/11/6911555bcb5edae447d514169831329398b45a3ed9ae3b00817878bc501559a1/04543c347c164deaec3f0f4b585a7e9bb15b08a01607fdb4bfda88e8109d9238?response-content-disposition=inline%3B+filename*%3DUTF-8%27%27GaussianViewTest.zip%3B+filename%3D%22GaussianViewTest.zip%22%3B&response-content-type=application%2Fzip&Expires=1746692834&Policy=eyJTdGF0ZW1lbnQiOlt7IkNvbmRpdGlvbiI6eyJEYXRlTGVzc1RoYW4iOnsiQVdTOkVwb2NoVGltZSI6MTc0NjY5MjgzNH19LCJSZXNvdXJjZSI6Imh0dHBzOi8vY2RuLWxmcy5oZi5jby9yZXBvcy82OS8xMS82OTExNTU1YmNiNWVkYWU0NDdkNTE0MTY5ODMxMzI5Mzk4YjQ1YTNlZDlhZTNiMDA4MTc4NzhiYzUwMTU1OWExLzA0NTQzYzM0N2MxNjRkZWFlYzNmMGY0YjU4NWE3ZTliYjE1YjA4YTAxNjA3ZmRiNGJmZGE4OGU4MTA5ZDkyMzg%7EcmVzcG9uc2UtY29udGVudC1kaXNwb3NpdGlvbj0qJnJlc3BvbnNlLWNvbnRlbnQtdHlwZT0qIn1dfQ__&Signature=dYnoZlmTHHuak0nuFSarQe7zIfE5PA4-DAHJ8IQg6eYIpnuPKmHNGqOvuJYrNX2wJ5uk3Q1130-1YfFyEhGOzg4S-pnsM-Z3Eem3GM88l9hyuaQ0ZWvsGHDnK0%7Evf52KDJut9JWxCz2cBC5cfETZUGYGL1h11CeY8NZb1u9kL2iMWVlLFK80hAVTy8BqsPwgKAlE6wOCJ%7Ef6eUfHZtf9pjq1oI9AfKXRfIJEcfXzVwPVa8zraMIxQI%7EkPv2UuTossAXd7eqpEI-XytGh88F5uE-6jsiJLDKiI7QiQE-AUgvg09K-kCVeqTrjDU5AwXVeguVrgQ7hew--BIfFl9C6tw__&Key-Pair-Id=K3RPWS32NSSJCE\n",
            "Resolving cdn-lfs.hf.co (cdn-lfs.hf.co)... 3.170.229.105, 3.170.229.28, 3.170.229.19, ...\n",
            "Connecting to cdn-lfs.hf.co (cdn-lfs.hf.co)|3.170.229.105|:443... connected.\n",
            "HTTP request sent, awaiting response... 200 OK\n",
            "Length: 487321454 (465M) [application/zip]\n",
            "Saving to: ‘GaussianViewTest.zip.3’\n",
            "\n",
            "GaussianViewTest.zi 100%[===================>] 464.75M   260MB/s    in 1.8s    \n",
            "\n",
            "2025-05-08 07:27:16 (260 MB/s) - ‘GaussianViewTest.zip.3’ saved [487321454/487321454]\n",
            "\n"
          ]
        }
      ]
    },
    {
      "cell_type": "code",
      "source": [
        "!unzip GaussianViewTest.zip\n"
      ],
      "metadata": {
        "id": "7XeK2_ZbyqKA",
        "outputId": "87de58a8-6de8-4bb9-d7f7-247a40a1e014",
        "colab": {
          "base_uri": "https://localhost:8080/"
        }
      },
      "execution_count": 12,
      "outputs": [
        {
          "output_type": "stream",
          "name": "stdout",
          "text": [
            "Archive:  GaussianViewTest.zip\n",
            "replace GaussianViewTest/model/cameras.json? [y]es, [n]o, [A]ll, [N]one, [r]ename: N\n"
          ]
        }
      ]
    },
    {
      "cell_type": "code",
      "source": [
        "!python render.py -m /content/gaussian-splatting/output/15ca1802-b/"
      ],
      "metadata": {
        "id": "vi1VoDaryweE",
        "outputId": "9c123a17-cffc-41d5-9002-7d34a760f771",
        "colab": {
          "base_uri": "https://localhost:8080/"
        }
      },
      "execution_count": 19,
      "outputs": [
        {
          "output_type": "stream",
          "name": "stdout",
          "text": [
            "Looking for config file in /content/gaussian-splatting/output/15ca1802-b/cfg_args\n",
            "Config file found: /content/gaussian-splatting/output/15ca1802-b/cfg_args\n",
            "Rendering /content/gaussian-splatting/output/15ca1802-b/\n",
            "Loading trained model at iteration 30000 [08/05 07:35:02]\n",
            "Reading camera 301/301 [08/05 07:35:04]\n",
            "Loading Training Cameras [08/05 07:35:04]\n",
            "Loading Test Cameras [08/05 07:35:10]\n",
            "Rendering progress: 100% 301/301 [02:20<00:00,  2.15it/s]\n",
            "Rendering progress: 0it [00:00, ?it/s]\n"
          ]
        }
      ]
    },
    {
      "cell_type": "code",
      "source": [
        "!ffmpeg -framerate 3 -i /content/gaussian-splatting/output/15ca1802-b//train/ours_30000/renders/%05d.png -vf \"pad=ceil(iw/2)*2:ceil(ih/2)*2\" -c:v libx264 -r 3 -pix_fmt yuv420p /content/renders.mp4\n",
        "!ffmpeg -framerate 3 -i /content/gaussian-splatting/output/15ca1802-b//train/ours_30000/gt/%05d.png -vf \"pad=ceil(iw/2)*2:ceil(ih/2)*2\" -c:v libx264 -r 3 -pix_fmt yuv420p /content/gt.mp4 -y"
      ],
      "metadata": {
        "id": "2oCqJl0-yzEp",
        "outputId": "077c4789-78db-42d2-83b8-822f7a48fbf1",
        "colab": {
          "base_uri": "https://localhost:8080/"
        }
      },
      "execution_count": 21,
      "outputs": [
        {
          "output_type": "stream",
          "name": "stdout",
          "text": [
            "ffmpeg version 4.4.2-0ubuntu0.22.04.1 Copyright (c) 2000-2021 the FFmpeg developers\n",
            "  built with gcc 11 (Ubuntu 11.2.0-19ubuntu1)\n",
            "  configuration: --prefix=/usr --extra-version=0ubuntu0.22.04.1 --toolchain=hardened --libdir=/usr/lib/x86_64-linux-gnu --incdir=/usr/include/x86_64-linux-gnu --arch=amd64 --enable-gpl --disable-stripping --enable-gnutls --enable-ladspa --enable-libaom --enable-libass --enable-libbluray --enable-libbs2b --enable-libcaca --enable-libcdio --enable-libcodec2 --enable-libdav1d --enable-libflite --enable-libfontconfig --enable-libfreetype --enable-libfribidi --enable-libgme --enable-libgsm --enable-libjack --enable-libmp3lame --enable-libmysofa --enable-libopenjpeg --enable-libopenmpt --enable-libopus --enable-libpulse --enable-librabbitmq --enable-librubberband --enable-libshine --enable-libsnappy --enable-libsoxr --enable-libspeex --enable-libsrt --enable-libssh --enable-libtheora --enable-libtwolame --enable-libvidstab --enable-libvorbis --enable-libvpx --enable-libwebp --enable-libx265 --enable-libxml2 --enable-libxvid --enable-libzimg --enable-libzmq --enable-libzvbi --enable-lv2 --enable-omx --enable-openal --enable-opencl --enable-opengl --enable-sdl2 --enable-pocketsphinx --enable-librsvg --enable-libmfx --enable-libdc1394 --enable-libdrm --enable-libiec61883 --enable-chromaprint --enable-frei0r --enable-libx264 --enable-shared\n",
            "  libavutil      56. 70.100 / 56. 70.100\n",
            "  libavcodec     58.134.100 / 58.134.100\n",
            "  libavformat    58. 76.100 / 58. 76.100\n",
            "  libavdevice    58. 13.100 / 58. 13.100\n",
            "  libavfilter     7.110.100 /  7.110.100\n",
            "  libswscale      5.  9.100 /  5.  9.100\n",
            "  libswresample   3.  9.100 /  3.  9.100\n",
            "  libpostproc    55.  9.100 / 55.  9.100\n",
            "Input #0, image2, from '/content/gaussian-splatting/output/15ca1802-b//train/ours_30000/renders/%05d.png':\n",
            "  Duration: 00:01:40.33, start: 0.000000, bitrate: N/A\n",
            "  Stream #0:0: Video: png, rgb24(pc), 980x545, 3 fps, 3 tbr, 3 tbn, 3 tbc\n",
            "Stream mapping:\n",
            "  Stream #0:0 -> #0:0 (png (native) -> h264 (libx264))\n",
            "Press [q] to stop, [?] for help\n",
            "\u001b[1;36m[libx264 @ 0x5af488344900] \u001b[0musing cpu capabilities: MMX2 SSE2Fast SSSE3 SSE4.2 AVX FMA3 BMI2 AVX2 AVX512\n",
            "\u001b[1;36m[libx264 @ 0x5af488344900] \u001b[0mprofile High, level 3.1, 4:2:0, 8-bit\n",
            "\u001b[1;36m[libx264 @ 0x5af488344900] \u001b[0m264 - core 163 r3060 5db6aa6 - H.264/MPEG-4 AVC codec - Copyleft 2003-2021 - http://www.videolan.org/x264.html - options: cabac=1 ref=3 deblock=1:0:0 analyse=0x3:0x113 me=hex subme=7 psy=1 psy_rd=1.00:0.00 mixed_ref=1 me_range=16 chroma_me=1 trellis=1 8x8dct=1 cqm=0 deadzone=21,11 fast_pskip=1 chroma_qp_offset=-2 threads=3 lookahead_threads=1 sliced_threads=0 nr=0 decimate=1 interlaced=0 bluray_compat=0 constrained_intra=0 bframes=3 b_pyramid=2 b_adapt=1 b_bias=0 direct=1 weightb=1 open_gop=0 weightp=2 keyint=250 keyint_min=3 scenecut=40 intra_refresh=0 rc_lookahead=40 rc=crf mbtree=1 crf=23.0 qcomp=0.60 qpmin=0 qpmax=69 qpstep=4 ip_ratio=1.40 aq=1:1.00\n",
            "Output #0, mp4, to '/content/renders.mp4':\n",
            "  Metadata:\n",
            "    encoder         : Lavf58.76.100\n",
            "  Stream #0:0: Video: h264 (avc1 / 0x31637661), yuv420p(tv, progressive), 980x546, q=2-31, 3 fps, 12288 tbn\n",
            "    Metadata:\n",
            "      encoder         : Lavc58.134.100 libx264\n",
            "    Side data:\n",
            "      cpb: bitrate max/min/avg: 0/0/0 buffer size: 0 vbv_delay: N/A\n",
            "frame=  301 fps= 11 q=-1.0 Lsize=   18057kB time=00:01:39.33 bitrate=1489.2kbits/s speed= 3.6x    \n",
            "video:18054kB audio:0kB subtitle:0kB other streams:0kB global headers:0kB muxing overhead: 0.019652%\n",
            "\u001b[1;36m[libx264 @ 0x5af488344900] \u001b[0mframe I:30    Avg QP:17.46  size: 92931\n",
            "\u001b[1;36m[libx264 @ 0x5af488344900] \u001b[0mframe P:185   Avg QP:20.71  size: 62544\n",
            "\u001b[1;36m[libx264 @ 0x5af488344900] \u001b[0mframe B:86    Avg QP:21.05  size: 47998\n",
            "\u001b[1;36m[libx264 @ 0x5af488344900] \u001b[0mconsecutive B-frames: 55.1% 17.3%  9.0% 18.6%\n",
            "\u001b[1;36m[libx264 @ 0x5af488344900] \u001b[0mmb I  I16..4:  4.5% 51.5% 44.0%\n",
            "\u001b[1;36m[libx264 @ 0x5af488344900] \u001b[0mmb P  I16..4:  4.9% 40.5% 22.9%  P16..4:  8.5% 13.3%  9.7%  0.0%  0.0%    skip: 0.2%\n",
            "\u001b[1;36m[libx264 @ 0x5af488344900] \u001b[0mmb B  I16..4:  3.0% 14.4% 10.8%  B16..8: 18.4% 28.2% 16.5%  direct: 6.8%  skip: 1.8%  L0:41.2% L1:31.5% BI:27.3%\n",
            "\u001b[1;36m[libx264 @ 0x5af488344900] \u001b[0m8x8 transform intra:56.9% inter:59.6%\n",
            "\u001b[1;36m[libx264 @ 0x5af488344900] \u001b[0mcoded y,uvDC,uvAC intra: 81.4% 87.7% 61.2% inter: 76.9% 62.5% 9.5%\n",
            "\u001b[1;36m[libx264 @ 0x5af488344900] \u001b[0mi16 v,h,dc,p:  5% 41%  3% 51%\n",
            "\u001b[1;36m[libx264 @ 0x5af488344900] \u001b[0mi8 v,h,dc,ddl,ddr,vr,hd,vl,hu: 20% 26% 12%  5%  6%  6%  9%  6% 12%\n",
            "\u001b[1;36m[libx264 @ 0x5af488344900] \u001b[0mi4 v,h,dc,ddl,ddr,vr,hd,vl,hu: 21% 28%  8%  5%  7%  7% 10%  5%  9%\n",
            "\u001b[1;36m[libx264 @ 0x5af488344900] \u001b[0mi8c dc,h,v,p: 40% 31% 20%  9%\n",
            "\u001b[1;36m[libx264 @ 0x5af488344900] \u001b[0mWeighted P-Frames: Y:21.6% UV:14.1%\n",
            "\u001b[1;36m[libx264 @ 0x5af488344900] \u001b[0mref P L0: 62.0% 24.2% 10.6%  2.6%  0.7%\n",
            "\u001b[1;36m[libx264 @ 0x5af488344900] \u001b[0mref B L0: 92.8%  5.7%  1.5%\n",
            "\u001b[1;36m[libx264 @ 0x5af488344900] \u001b[0mref B L1: 98.6%  1.4%\n",
            "\u001b[1;36m[libx264 @ 0x5af488344900] \u001b[0mkb/s:1474.00\n",
            "ffmpeg version 4.4.2-0ubuntu0.22.04.1 Copyright (c) 2000-2021 the FFmpeg developers\n",
            "  built with gcc 11 (Ubuntu 11.2.0-19ubuntu1)\n",
            "  configuration: --prefix=/usr --extra-version=0ubuntu0.22.04.1 --toolchain=hardened --libdir=/usr/lib/x86_64-linux-gnu --incdir=/usr/include/x86_64-linux-gnu --arch=amd64 --enable-gpl --disable-stripping --enable-gnutls --enable-ladspa --enable-libaom --enable-libass --enable-libbluray --enable-libbs2b --enable-libcaca --enable-libcdio --enable-libcodec2 --enable-libdav1d --enable-libflite --enable-libfontconfig --enable-libfreetype --enable-libfribidi --enable-libgme --enable-libgsm --enable-libjack --enable-libmp3lame --enable-libmysofa --enable-libopenjpeg --enable-libopenmpt --enable-libopus --enable-libpulse --enable-librabbitmq --enable-librubberband --enable-libshine --enable-libsnappy --enable-libsoxr --enable-libspeex --enable-libsrt --enable-libssh --enable-libtheora --enable-libtwolame --enable-libvidstab --enable-libvorbis --enable-libvpx --enable-libwebp --enable-libx265 --enable-libxml2 --enable-libxvid --enable-libzimg --enable-libzmq --enable-libzvbi --enable-lv2 --enable-omx --enable-openal --enable-opencl --enable-opengl --enable-sdl2 --enable-pocketsphinx --enable-librsvg --enable-libmfx --enable-libdc1394 --enable-libdrm --enable-libiec61883 --enable-chromaprint --enable-frei0r --enable-libx264 --enable-shared\n",
            "  libavutil      56. 70.100 / 56. 70.100\n",
            "  libavcodec     58.134.100 / 58.134.100\n",
            "  libavformat    58. 76.100 / 58. 76.100\n",
            "  libavdevice    58. 13.100 / 58. 13.100\n",
            "  libavfilter     7.110.100 /  7.110.100\n",
            "  libswscale      5.  9.100 /  5.  9.100\n",
            "  libswresample   3.  9.100 /  3.  9.100\n",
            "  libpostproc    55.  9.100 / 55.  9.100\n",
            "Input #0, image2, from '/content/gaussian-splatting/output/15ca1802-b//train/ours_30000/gt/%05d.png':\n",
            "  Duration: 00:01:40.33, start: 0.000000, bitrate: N/A\n",
            "  Stream #0:0: Video: png, rgb24(pc), 980x545, 3 fps, 3 tbr, 3 tbn, 3 tbc\n",
            "Stream mapping:\n",
            "  Stream #0:0 -> #0:0 (png (native) -> h264 (libx264))\n",
            "Press [q] to stop, [?] for help\n",
            "\u001b[1;36m[libx264 @ 0x5cda99999a40] \u001b[0musing cpu capabilities: MMX2 SSE2Fast SSSE3 SSE4.2 AVX FMA3 BMI2 AVX2 AVX512\n",
            "\u001b[1;36m[libx264 @ 0x5cda99999a40] \u001b[0mprofile High, level 3.1, 4:2:0, 8-bit\n",
            "\u001b[1;36m[libx264 @ 0x5cda99999a40] \u001b[0m264 - core 163 r3060 5db6aa6 - H.264/MPEG-4 AVC codec - Copyleft 2003-2021 - http://www.videolan.org/x264.html - options: cabac=1 ref=3 deblock=1:0:0 analyse=0x3:0x113 me=hex subme=7 psy=1 psy_rd=1.00:0.00 mixed_ref=1 me_range=16 chroma_me=1 trellis=1 8x8dct=1 cqm=0 deadzone=21,11 fast_pskip=1 chroma_qp_offset=-2 threads=3 lookahead_threads=1 sliced_threads=0 nr=0 decimate=1 interlaced=0 bluray_compat=0 constrained_intra=0 bframes=3 b_pyramid=2 b_adapt=1 b_bias=0 direct=1 weightb=1 open_gop=0 weightp=2 keyint=250 keyint_min=3 scenecut=40 intra_refresh=0 rc_lookahead=40 rc=crf mbtree=1 crf=23.0 qcomp=0.60 qpmin=0 qpmax=69 qpstep=4 ip_ratio=1.40 aq=1:1.00\n",
            "Output #0, mp4, to '/content/gt.mp4':\n",
            "  Metadata:\n",
            "    encoder         : Lavf58.76.100\n",
            "  Stream #0:0: Video: h264 (avc1 / 0x31637661), yuv420p(tv, progressive), 980x546, q=2-31, 3 fps, 12288 tbn\n",
            "    Metadata:\n",
            "      encoder         : Lavc58.134.100 libx264\n",
            "    Side data:\n",
            "      cpb: bitrate max/min/avg: 0/0/0 buffer size: 0 vbv_delay: N/A\n",
            "frame=  301 fps= 10 q=-1.0 Lsize=   24250kB time=00:01:39.33 bitrate=1999.9kbits/s speed=3.41x    \n",
            "video:24247kB audio:0kB subtitle:0kB other streams:0kB global headers:0kB muxing overhead: 0.015583%\n",
            "\u001b[1;36m[libx264 @ 0x5cda99999a40] \u001b[0mframe I:35    Avg QP:17.88  size:122742\n",
            "\u001b[1;36m[libx264 @ 0x5cda99999a40] \u001b[0mframe P:168   Avg QP:21.23  size: 84435\n",
            "\u001b[1;36m[libx264 @ 0x5cda99999a40] \u001b[0mframe B:98    Avg QP:21.27  size: 64762\n",
            "\u001b[1;36m[libx264 @ 0x5cda99999a40] \u001b[0mconsecutive B-frames: 50.5% 14.6% 11.0% 23.9%\n",
            "\u001b[1;36m[libx264 @ 0x5cda99999a40] \u001b[0mmb I  I16..4:  5.1% 44.2% 50.7%\n",
            "\u001b[1;36m[libx264 @ 0x5cda99999a40] \u001b[0mmb P  I16..4:  3.1% 32.0% 29.8%  P16..4: 10.0% 13.7% 10.9%  0.0%  0.0%    skip: 0.5%\n",
            "\u001b[1;36m[libx264 @ 0x5cda99999a40] \u001b[0mmb B  I16..4:  1.3% 12.0% 13.6%  B16..8: 18.6% 25.5% 18.0%  direct: 7.3%  skip: 3.8%  L0:42.9% L1:31.4% BI:25.7%\n",
            "\u001b[1;36m[libx264 @ 0x5cda99999a40] \u001b[0m8x8 transform intra:47.5% inter:55.3%\n",
            "\u001b[1;36m[libx264 @ 0x5cda99999a40] \u001b[0mcoded y,uvDC,uvAC intra: 90.9% 93.0% 76.2% inter: 73.1% 64.7% 10.5%\n",
            "\u001b[1;36m[libx264 @ 0x5cda99999a40] \u001b[0mi16 v,h,dc,p:  8% 38%  5% 48%\n",
            "\u001b[1;36m[libx264 @ 0x5cda99999a40] \u001b[0mi8 v,h,dc,ddl,ddr,vr,hd,vl,hu: 18% 22% 16%  5%  6%  6%  8%  6% 12%\n",
            "\u001b[1;36m[libx264 @ 0x5cda99999a40] \u001b[0mi4 v,h,dc,ddl,ddr,vr,hd,vl,hu: 21% 25% 10%  6%  7%  7%  9%  6% 10%\n",
            "\u001b[1;36m[libx264 @ 0x5cda99999a40] \u001b[0mi8c dc,h,v,p: 41% 29% 21%  9%\n",
            "\u001b[1;36m[libx264 @ 0x5cda99999a40] \u001b[0mWeighted P-Frames: Y:23.2% UV:15.5%\n",
            "\u001b[1;36m[libx264 @ 0x5cda99999a40] \u001b[0mref P L0: 65.9% 19.3% 10.2%  3.6%  1.0%\n",
            "\u001b[1;36m[libx264 @ 0x5cda99999a40] \u001b[0mref B L0: 91.5%  7.1%  1.4%\n",
            "\u001b[1;36m[libx264 @ 0x5cda99999a40] \u001b[0mref B L1: 97.6%  2.4%\n",
            "\u001b[1;36m[libx264 @ 0x5cda99999a40] \u001b[0mkb/s:1979.62\n"
          ]
        }
      ]
    }
  ],
  "metadata": {
    "accelerator": "GPU",
    "colab": {
      "gpuType": "T4",
      "provenance": [],
      "include_colab_link": true
    },
    "kernelspec": {
      "display_name": "Python 3",
      "name": "python3"
    },
    "language_info": {
      "name": "python"
    }
  },
  "nbformat": 4,
  "nbformat_minor": 0
}